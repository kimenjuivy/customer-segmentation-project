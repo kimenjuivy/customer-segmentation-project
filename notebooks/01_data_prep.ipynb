{
 "cells": [
  {
   "cell_type": "code",
   "execution_count": 1,
   "id": "d1ee4842",
   "metadata": {},
   "outputs": [
    {
     "name": "stdout",
     "output_type": "stream",
     "text": [
      "Libraries imported successfully!\n"
     ]
    }
   ],
   "source": [
    "# Cell 1: Import libraries and load data\n",
    "import pandas as pd\n",
    "import numpy as np\n",
    "import matplotlib.pyplot as plt\n",
    "import seaborn as sns\n",
    "from datetime import datetime\n",
    "import warnings\n",
    "warnings.filterwarnings('ignore')\n",
    "\n",
    "print(\"Libraries imported successfully!\")"
   ]
  },
  {
   "cell_type": "code",
   "execution_count": 2,
   "id": "0c4bb7eb",
   "metadata": {},
   "outputs": [
    {
     "name": "stdout",
     "output_type": "stream",
     "text": [
      "✅ Data loaded successfully!\n",
      "📏 Dataset shape: (541909, 8)\n",
      "📋 Columns: ['InvoiceNo', 'StockCode', 'Description', 'Quantity', 'InvoiceDate', 'UnitPrice', 'CustomerID', 'Country']\n"
     ]
    }
   ],
   "source": [
    "raw_data = pd.read_csv(\"../data/raw/data.csv\", encoding=\"latin1\")\n",
    "\n",
    "print(\"✅ Data loaded successfully!\")\n",
    "print(f\"📏 Dataset shape: {raw_data.shape}\")\n",
    "print(f\"📋 Columns: {list(raw_data.columns)}\")\n"
   ]
  },
  {
   "cell_type": "code",
   "execution_count": 4,
   "id": "5352849b",
   "metadata": {},
   "outputs": [
    {
     "name": "stdout",
     "output_type": "stream",
     "text": [
      "=== FIRST 10 ROWS ===\n"
     ]
    },
    {
     "data": {
      "text/html": [
       "<div>\n",
       "<style scoped>\n",
       "    .dataframe tbody tr th:only-of-type {\n",
       "        vertical-align: middle;\n",
       "    }\n",
       "\n",
       "    .dataframe tbody tr th {\n",
       "        vertical-align: top;\n",
       "    }\n",
       "\n",
       "    .dataframe thead th {\n",
       "        text-align: right;\n",
       "    }\n",
       "</style>\n",
       "<table border=\"1\" class=\"dataframe\">\n",
       "  <thead>\n",
       "    <tr style=\"text-align: right;\">\n",
       "      <th></th>\n",
       "      <th>InvoiceNo</th>\n",
       "      <th>StockCode</th>\n",
       "      <th>Description</th>\n",
       "      <th>Quantity</th>\n",
       "      <th>InvoiceDate</th>\n",
       "      <th>UnitPrice</th>\n",
       "      <th>CustomerID</th>\n",
       "      <th>Country</th>\n",
       "    </tr>\n",
       "  </thead>\n",
       "  <tbody>\n",
       "    <tr>\n",
       "      <th>0</th>\n",
       "      <td>536365</td>\n",
       "      <td>85123A</td>\n",
       "      <td>WHITE HANGING HEART T-LIGHT HOLDER</td>\n",
       "      <td>6</td>\n",
       "      <td>12/1/2010 8:26</td>\n",
       "      <td>2.55</td>\n",
       "      <td>17850.0</td>\n",
       "      <td>United Kingdom</td>\n",
       "    </tr>\n",
       "    <tr>\n",
       "      <th>1</th>\n",
       "      <td>536365</td>\n",
       "      <td>71053</td>\n",
       "      <td>WHITE METAL LANTERN</td>\n",
       "      <td>6</td>\n",
       "      <td>12/1/2010 8:26</td>\n",
       "      <td>3.39</td>\n",
       "      <td>17850.0</td>\n",
       "      <td>United Kingdom</td>\n",
       "    </tr>\n",
       "    <tr>\n",
       "      <th>2</th>\n",
       "      <td>536365</td>\n",
       "      <td>84406B</td>\n",
       "      <td>CREAM CUPID HEARTS COAT HANGER</td>\n",
       "      <td>8</td>\n",
       "      <td>12/1/2010 8:26</td>\n",
       "      <td>2.75</td>\n",
       "      <td>17850.0</td>\n",
       "      <td>United Kingdom</td>\n",
       "    </tr>\n",
       "    <tr>\n",
       "      <th>3</th>\n",
       "      <td>536365</td>\n",
       "      <td>84029G</td>\n",
       "      <td>KNITTED UNION FLAG HOT WATER BOTTLE</td>\n",
       "      <td>6</td>\n",
       "      <td>12/1/2010 8:26</td>\n",
       "      <td>3.39</td>\n",
       "      <td>17850.0</td>\n",
       "      <td>United Kingdom</td>\n",
       "    </tr>\n",
       "    <tr>\n",
       "      <th>4</th>\n",
       "      <td>536365</td>\n",
       "      <td>84029E</td>\n",
       "      <td>RED WOOLLY HOTTIE WHITE HEART.</td>\n",
       "      <td>6</td>\n",
       "      <td>12/1/2010 8:26</td>\n",
       "      <td>3.39</td>\n",
       "      <td>17850.0</td>\n",
       "      <td>United Kingdom</td>\n",
       "    </tr>\n",
       "  </tbody>\n",
       "</table>\n",
       "</div>"
      ],
      "text/plain": [
       "  InvoiceNo StockCode                          Description  Quantity  \\\n",
       "0    536365    85123A   WHITE HANGING HEART T-LIGHT HOLDER         6   \n",
       "1    536365     71053                  WHITE METAL LANTERN         6   \n",
       "2    536365    84406B       CREAM CUPID HEARTS COAT HANGER         8   \n",
       "3    536365    84029G  KNITTED UNION FLAG HOT WATER BOTTLE         6   \n",
       "4    536365    84029E       RED WOOLLY HOTTIE WHITE HEART.         6   \n",
       "\n",
       "      InvoiceDate  UnitPrice  CustomerID         Country  \n",
       "0  12/1/2010 8:26       2.55     17850.0  United Kingdom  \n",
       "1  12/1/2010 8:26       3.39     17850.0  United Kingdom  \n",
       "2  12/1/2010 8:26       2.75     17850.0  United Kingdom  \n",
       "3  12/1/2010 8:26       3.39     17850.0  United Kingdom  \n",
       "4  12/1/2010 8:26       3.39     17850.0  United Kingdom  "
      ]
     },
     "metadata": {},
     "output_type": "display_data"
    },
    {
     "name": "stdout",
     "output_type": "stream",
     "text": [
      "\n",
      "=== DATA TYPES ===\n",
      "InvoiceNo       object\n",
      "StockCode       object\n",
      "Description     object\n",
      "Quantity         int64\n",
      "InvoiceDate     object\n",
      "UnitPrice      float64\n",
      "CustomerID     float64\n",
      "Country         object\n",
      "dtype: object\n",
      "\n",
      "=== MISSING VALUES ===\n",
      "InvoiceNo           0\n",
      "StockCode           0\n",
      "Description      1454\n",
      "Quantity            0\n",
      "InvoiceDate         0\n",
      "UnitPrice           0\n",
      "CustomerID     135080\n",
      "Country             0\n",
      "dtype: int64\n",
      "\n",
      "=== BASIC STATISTICS ===\n"
     ]
    },
    {
     "data": {
      "text/html": [
       "<div>\n",
       "<style scoped>\n",
       "    .dataframe tbody tr th:only-of-type {\n",
       "        vertical-align: middle;\n",
       "    }\n",
       "\n",
       "    .dataframe tbody tr th {\n",
       "        vertical-align: top;\n",
       "    }\n",
       "\n",
       "    .dataframe thead th {\n",
       "        text-align: right;\n",
       "    }\n",
       "</style>\n",
       "<table border=\"1\" class=\"dataframe\">\n",
       "  <thead>\n",
       "    <tr style=\"text-align: right;\">\n",
       "      <th></th>\n",
       "      <th>Quantity</th>\n",
       "      <th>UnitPrice</th>\n",
       "      <th>CustomerID</th>\n",
       "    </tr>\n",
       "  </thead>\n",
       "  <tbody>\n",
       "    <tr>\n",
       "      <th>count</th>\n",
       "      <td>541909.000000</td>\n",
       "      <td>541909.000000</td>\n",
       "      <td>406829.000000</td>\n",
       "    </tr>\n",
       "    <tr>\n",
       "      <th>mean</th>\n",
       "      <td>9.552250</td>\n",
       "      <td>4.611114</td>\n",
       "      <td>15287.690570</td>\n",
       "    </tr>\n",
       "    <tr>\n",
       "      <th>std</th>\n",
       "      <td>218.081158</td>\n",
       "      <td>96.759853</td>\n",
       "      <td>1713.600303</td>\n",
       "    </tr>\n",
       "    <tr>\n",
       "      <th>min</th>\n",
       "      <td>-80995.000000</td>\n",
       "      <td>-11062.060000</td>\n",
       "      <td>12346.000000</td>\n",
       "    </tr>\n",
       "    <tr>\n",
       "      <th>25%</th>\n",
       "      <td>1.000000</td>\n",
       "      <td>1.250000</td>\n",
       "      <td>13953.000000</td>\n",
       "    </tr>\n",
       "    <tr>\n",
       "      <th>50%</th>\n",
       "      <td>3.000000</td>\n",
       "      <td>2.080000</td>\n",
       "      <td>15152.000000</td>\n",
       "    </tr>\n",
       "    <tr>\n",
       "      <th>75%</th>\n",
       "      <td>10.000000</td>\n",
       "      <td>4.130000</td>\n",
       "      <td>16791.000000</td>\n",
       "    </tr>\n",
       "    <tr>\n",
       "      <th>max</th>\n",
       "      <td>80995.000000</td>\n",
       "      <td>38970.000000</td>\n",
       "      <td>18287.000000</td>\n",
       "    </tr>\n",
       "  </tbody>\n",
       "</table>\n",
       "</div>"
      ],
      "text/plain": [
       "            Quantity      UnitPrice     CustomerID\n",
       "count  541909.000000  541909.000000  406829.000000\n",
       "mean        9.552250       4.611114   15287.690570\n",
       "std       218.081158      96.759853    1713.600303\n",
       "min    -80995.000000  -11062.060000   12346.000000\n",
       "25%         1.000000       1.250000   13953.000000\n",
       "50%         3.000000       2.080000   15152.000000\n",
       "75%        10.000000       4.130000   16791.000000\n",
       "max     80995.000000   38970.000000   18287.000000"
      ]
     },
     "metadata": {},
     "output_type": "display_data"
    }
   ],
   "source": [
    "\n",
    "# Cell 3: First look at the data\n",
    "print(\"=== FIRST 10 ROWS ===\")\n",
    "display(raw_data.head())\n",
    "\n",
    "print(\"\\n=== DATA TYPES ===\")\n",
    "print(raw_data.dtypes)\n",
    "\n",
    "print(\"\\n=== MISSING VALUES ===\")\n",
    "print(raw_data.isnull().sum())\n",
    "\n",
    "print(\"\\n=== BASIC STATISTICS ===\")\n",
    "display(raw_data.describe())"
   ]
  },
  {
   "cell_type": "code",
   "execution_count": 5,
   "id": "4f79da01",
   "metadata": {},
   "outputs": [
    {
     "name": "stdout",
     "output_type": "stream",
     "text": [
      "✅ MySQL connection created successfully!\n"
     ]
    }
   ],
   "source": [
    "# Cell 4: Set up MySQL connection\n",
    "import pymysql\n",
    "from sqlalchemy import create_engine\n",
    "\n",
    "# MySQL connection details\n",
    "mysql_config = {\n",
    "    'host': 'localhost',\n",
    "    'user': 'root',\n",
    "    'password': 'Ivyyepal08!', \n",
    "    'database': 'retail_analytics'\n",
    "}\n",
    "\n",
    "# Create connection\n",
    "try:\n",
    "    connection_string = f\"mysql+pymysql://{mysql_config['user']}:{mysql_config['password']}@{mysql_config['host']}/{mysql_config['database']}\"\n",
    "    engine = create_engine(connection_string)\n",
    "    print(\"✅ MySQL connection created successfully!\")\n",
    "except Exception as e:\n",
    "    print(f\"❌ Connection failed: {e}\")\n",
    "    print(\"We'll continue with local analysis for now\")"
   ]
  },
  {
   "cell_type": "code",
   "execution_count": 7,
   "id": "31f59b06",
   "metadata": {},
   "outputs": [
    {
     "name": "stdout",
     "output_type": "stream",
     "text": [
      "=== STARTING DATA CLEANING ===\n",
      "📊 Starting with 541909 rows and 8 columns\n"
     ]
    }
   ],
   "source": [
    "# Cell 5: Create cleaning log and start cleaning\n",
    "print(\"=== STARTING DATA CLEANING ===\")\n",
    "\n",
    "# Create a copy for cleaning (always preserve original!)\n",
    "clean_data = raw_data.copy()\n",
    "\n",
    "# Log initial state\n",
    "cleaning_log = {\n",
    "    'timestamp': datetime.now(),\n",
    "    'initial_rows': len(raw_data),\n",
    "    'initial_columns': len(raw_data.columns),\n",
    "    'steps_completed': []\n",
    "}\n",
    "\n",
    "print(f\"📊 Starting with {len(clean_data)} rows and {len(clean_data.columns)} columns\")"
   ]
  },
  {
   "cell_type": "code",
   "execution_count": 8,
   "id": "cc694274",
   "metadata": {},
   "outputs": [
    {
     "name": "stdout",
     "output_type": "stream",
     "text": [
      "=== STEP 1: NORMALIZING COLUMN NAMES ===\n",
      "Original columns: ['InvoiceNo', 'StockCode', 'Description', 'Quantity', 'InvoiceDate', 'UnitPrice', 'CustomerID', 'Country']\n",
      "Cleaned columns: ['invoiceno', 'stockcode', 'description', 'quantity', 'invoicedate', 'unitprice', 'customerid', 'country']\n"
     ]
    }
   ],
   "source": [
    "# Cell 6: Normalize column names\n",
    "print(\"=== STEP 1: NORMALIZING COLUMN NAMES ===\")\n",
    "\n",
    "# Show original column names\n",
    "print(\"Original columns:\", list(clean_data.columns))\n",
    "\n",
    "# Normalize: lowercase, replace spaces with underscores\n",
    "clean_data.columns = clean_data.columns.str.lower().str.replace(' ', '_').str.replace('.', '_')\n",
    "\n",
    "print(\"Cleaned columns:\", list(clean_data.columns))\n",
    "cleaning_log['steps_completed'].append('Column names normalized')"
   ]
  },
  {
   "cell_type": "code",
   "execution_count": 9,
   "id": "264382c6",
   "metadata": {},
   "outputs": [
    {
     "name": "stdout",
     "output_type": "stream",
     "text": [
      "=== STEP 2: PARSING DATES ===\n",
      "Potential date columns: ['invoiceno', 'stockcode', 'description', 'invoicedate', 'country']\n",
      "\n",
      "invoiceno sample values:\n",
      "0    536365\n",
      "1    536365\n",
      "2    536365\n",
      "3    536365\n",
      "4    536365\n",
      "Name: invoiceno, dtype: object\n",
      "\n",
      "stockcode sample values:\n",
      "0    85123A\n",
      "1     71053\n",
      "2    84406B\n",
      "3    84029G\n",
      "4    84029E\n",
      "Name: stockcode, dtype: object\n",
      "\n",
      "description sample values:\n",
      "0     WHITE HANGING HEART T-LIGHT HOLDER\n",
      "1                    WHITE METAL LANTERN\n",
      "2         CREAM CUPID HEARTS COAT HANGER\n",
      "3    KNITTED UNION FLAG HOT WATER BOTTLE\n",
      "4         RED WOOLLY HOTTIE WHITE HEART.\n",
      "Name: description, dtype: object\n"
     ]
    }
   ],
   "source": [
    "# Cell 7: Parse dates (we'll adapt this based on your data structure)\n",
    "print(\"=== STEP 2: PARSING DATES ===\")\n",
    "\n",
    "# First, let's see what date columns we have\n",
    "date_columns = clean_data.select_dtypes(include=['object']).columns\n",
    "print(\"Potential date columns:\", list(date_columns))\n",
    "\n",
    "# We'll update this based on your actual data structure\n",
    "# For now, let's identify date patterns\n",
    "for col in date_columns[:3]:  # Check first 3 text columns\n",
    "    print(f\"\\n{col} sample values:\")\n",
    "    print(clean_data[col].head())"
   ]
  },
  {
   "cell_type": "code",
   "execution_count": 10,
   "id": "bc6ea778",
   "metadata": {},
   "outputs": [
    {
     "name": "stdout",
     "output_type": "stream",
     "text": [
      "=== STEP 2: PARSING DATES (CONTINUED) ===\n",
      "InvoiceDate sample values:\n",
      "0    12/1/2010 8:26\n",
      "1    12/1/2010 8:26\n",
      "2    12/1/2010 8:26\n",
      "3    12/1/2010 8:26\n",
      "4    12/1/2010 8:26\n",
      "5    12/1/2010 8:26\n",
      "6    12/1/2010 8:26\n",
      "7    12/1/2010 8:28\n",
      "8    12/1/2010 8:28\n",
      "9    12/1/2010 8:34\n",
      "Name: invoicedate, dtype: object\n",
      "\n",
      "InvoiceDate data type: object\n",
      "✅ Date parsing successful!\n",
      "📅 Date range: 2010-12-01 08:26:00 to 2011-12-09 12:50:00\n"
     ]
    }
   ],
   "source": [
    "# Cell 8: Parse the invoice date properly\n",
    "print(\"=== STEP 2: PARSING DATES (CONTINUED) ===\")\n",
    "\n",
    "# Let's look at the invoicedate column specifically\n",
    "print(\"InvoiceDate sample values:\")\n",
    "print(clean_data['invoicedate'].head(10))\n",
    "print(f\"\\nInvoiceDate data type: {clean_data['invoicedate'].dtype}\")\n",
    "\n",
    "# Parse the date column\n",
    "try:\n",
    "    clean_data['invoicedate'] = pd.to_datetime(clean_data['invoicedate'])\n",
    "    print(\"✅ Date parsing successful!\")\n",
    "    \n",
    "    # Show date range\n",
    "    print(f\"📅 Date range: {clean_data['invoicedate'].min()} to {clean_data['invoicedate'].max()}\")\n",
    "    \n",
    "    cleaning_log['steps_completed'].append('Dates parsed successfully')\n",
    "except Exception as e:\n",
    "    print(f\"❌ Date parsing failed: {e}\")\n",
    "    print(\"Let's examine the date format more closely...\")"
   ]
  },
  {
   "cell_type": "code",
   "execution_count": 11,
   "id": "5b8fc712",
   "metadata": {},
   "outputs": [
    {
     "name": "stdout",
     "output_type": "stream",
     "text": [
      "=== STEP 3: HANDLING DUPLICATES ===\n",
      "📊 Initial row count: 541909\n",
      "🔍 Found 5268 exact duplicate rows\n",
      "📊 After removing duplicates: 536641 rows\n",
      "🗑️ Removed 5268 duplicate rows\n"
     ]
    }
   ],
   "source": [
    "# Cell 9: Check and remove duplicates\n",
    "print(\"=== STEP 3: HANDLING DUPLICATES ===\")\n",
    "\n",
    "initial_rows = len(clean_data)\n",
    "print(f\"📊 Initial row count: {initial_rows}\")\n",
    "\n",
    "# Check for exact duplicates\n",
    "duplicates = clean_data.duplicated().sum()\n",
    "print(f\"🔍 Found {duplicates} exact duplicate rows\")\n",
    "\n",
    "# Remove duplicates\n",
    "clean_data = clean_data.drop_duplicates()\n",
    "final_rows = len(clean_data)\n",
    "\n",
    "print(f\"📊 After removing duplicates: {final_rows} rows\")\n",
    "print(f\"🗑️ Removed {initial_rows - final_rows} duplicate rows\")\n",
    "\n",
    "cleaning_log['steps_completed'].append(f'Removed {initial_rows - final_rows} duplicates')\n",
    "cleaning_log['rows_after_deduplication'] = final_rows"
   ]
  },
  {
   "cell_type": "code",
   "execution_count": 12,
   "id": "efe12a6e",
   "metadata": {},
   "outputs": [
    {
     "name": "stdout",
     "output_type": "stream",
     "text": [
      "=== STEP 4: HANDLING MISSING VALUES ===\n",
      "Missing values per column:\n",
      "invoiceno           0\n",
      "stockcode           0\n",
      "description      1454\n",
      "quantity            0\n",
      "invoicedate         0\n",
      "unitprice           0\n",
      "customerid     135037\n",
      "country             0\n",
      "dtype: int64\n",
      "\n",
      "Missing values percentage:\n",
      "description: 0.27%\n",
      "customerid: 25.16%\n",
      "\n",
      "🔍 Missing CustomerID: 135037 rows (25.2%)\n",
      "📊 Rows with valid CustomerID: 401604\n"
     ]
    }
   ],
   "source": [
    "# Cell 10: Examine and handle missing values\n",
    "print(\"=== STEP 4: HANDLING MISSING VALUES ===\")\n",
    "\n",
    "print(\"Missing values per column:\")\n",
    "missing_summary = clean_data.isnull().sum()\n",
    "print(missing_summary)\n",
    "\n",
    "# Show percentage of missing values\n",
    "print(\"\\nMissing values percentage:\")\n",
    "missing_percent = (missing_summary / len(clean_data)) * 100\n",
    "for col, pct in missing_percent.items():\n",
    "    if pct > 0:\n",
    "        print(f\"{col}: {pct:.2f}%\")\n",
    "\n",
    "# Handle missing CustomerID (common in this dataset)\n",
    "if 'customerid' in clean_data.columns:\n",
    "    missing_customers = clean_data['customerid'].isnull().sum()\n",
    "    print(f\"\\n🔍 Missing CustomerID: {missing_customers} rows ({missing_customers/len(clean_data)*100:.1f}%)\")\n",
    "    \n",
    "    # For customer segmentation, we'll remove rows without CustomerID\n",
    "    clean_data_with_customers = clean_data.dropna(subset=['customerid'])\n",
    "    print(f\"📊 Rows with valid CustomerID: {len(clean_data_with_customers)}\")\n",
    "    \n",
    "    # Update our working dataset\n",
    "    clean_data = clean_data_with_customers\n",
    "    cleaning_log['steps_completed'].append(f'Removed {missing_customers} rows with missing CustomerID')"
   ]
  },
  {
   "cell_type": "code",
   "execution_count": 13,
   "id": "a38dc1f4",
   "metadata": {},
   "outputs": [
    {
     "name": "stdout",
     "output_type": "stream",
     "text": [
      "=== STEP 5: HANDLING INVALID VALUES ===\n",
      "🔍 Rows with negative/zero quantity: 8872\n",
      "🔍 Rows with negative/zero unit price: 40\n",
      "\n",
      "Sample negative quantities:\n",
      "    invoiceno stockcode  quantity                       description\n",
      "141   C536379         D        -1                          Discount\n",
      "154   C536383    35004C        -1   SET OF 3 COLOURED  FLYING DUCKS\n",
      "235   C536391     22556       -12    PLASTERS IN TIN CIRCUS PARADE \n",
      "236   C536391     21984       -24  PACK OF 12 PINK PAISLEY TISSUES \n",
      "237   C536391     21983       -24  PACK OF 12 BLUE PAISLEY TISSUES \n",
      "\n",
      "📊 Removed 8912 rows with invalid quantities/prices\n",
      "📊 Final dataset: 392692 rows\n"
     ]
    }
   ],
   "source": [
    "# Cell 11: Fix negative quantities and prices\n",
    "print(\"=== STEP 5: HANDLING INVALID VALUES ===\")\n",
    "\n",
    "# Check for negative quantities\n",
    "negative_qty = (clean_data['quantity'] <= 0).sum()\n",
    "print(f\"🔍 Rows with negative/zero quantity: {negative_qty}\")\n",
    "\n",
    "# Check for negative prices\n",
    "negative_price = (clean_data['unitprice'] <= 0).sum()\n",
    "print(f\"🔍 Rows with negative/zero unit price: {negative_price}\")\n",
    "\n",
    "# Show some examples of negative values\n",
    "if negative_qty > 0:\n",
    "    print(\"\\nSample negative quantities:\")\n",
    "    print(clean_data[clean_data['quantity'] <= 0][['invoiceno', 'stockcode', 'quantity', 'description']].head())\n",
    "\n",
    "# Remove rows with negative/zero quantities or prices\n",
    "before_cleaning = len(clean_data)\n",
    "clean_data = clean_data[(clean_data['quantity'] > 0) & (clean_data['unitprice'] > 0)]\n",
    "after_cleaning = len(clean_data)\n",
    "\n",
    "print(f\"\\n📊 Removed {before_cleaning - after_cleaning} rows with invalid quantities/prices\")\n",
    "print(f\"📊 Final dataset: {after_cleaning} rows\")\n",
    "\n",
    "cleaning_log['steps_completed'].append(f'Removed {before_cleaning - after_cleaning} rows with invalid values')\n",
    "cleaning_log['final_clean_rows'] = after_cleaning"
   ]
  },
  {
   "cell_type": "code",
   "execution_count": 21,
   "id": "7824a8ce",
   "metadata": {},
   "outputs": [
    {
     "name": "stdout",
     "output_type": "stream",
     "text": [
      "=== STEP 6: FEATURE ENGINEERING ===\n",
      "✅ Created new features:\n",
      "- total_amount (quantity × unit_price)\n",
      "- year, month, day_of_week, hour\n",
      "\n",
      "Sample of enhanced data:\n"
     ]
    },
    {
     "data": {
      "text/html": [
       "<div>\n",
       "<style scoped>\n",
       "    .dataframe tbody tr th:only-of-type {\n",
       "        vertical-align: middle;\n",
       "    }\n",
       "\n",
       "    .dataframe tbody tr th {\n",
       "        vertical-align: top;\n",
       "    }\n",
       "\n",
       "    .dataframe thead th {\n",
       "        text-align: right;\n",
       "    }\n",
       "</style>\n",
       "<table border=\"1\" class=\"dataframe\">\n",
       "  <thead>\n",
       "    <tr style=\"text-align: right;\">\n",
       "      <th></th>\n",
       "      <th>invoiceno</th>\n",
       "      <th>quantity</th>\n",
       "      <th>unitprice</th>\n",
       "      <th>total_amount</th>\n",
       "      <th>year</th>\n",
       "      <th>month</th>\n",
       "    </tr>\n",
       "  </thead>\n",
       "  <tbody>\n",
       "    <tr>\n",
       "      <th>0</th>\n",
       "      <td>536365</td>\n",
       "      <td>6</td>\n",
       "      <td>2.55</td>\n",
       "      <td>15.30</td>\n",
       "      <td>2010</td>\n",
       "      <td>12</td>\n",
       "    </tr>\n",
       "    <tr>\n",
       "      <th>1</th>\n",
       "      <td>536365</td>\n",
       "      <td>6</td>\n",
       "      <td>3.39</td>\n",
       "      <td>20.34</td>\n",
       "      <td>2010</td>\n",
       "      <td>12</td>\n",
       "    </tr>\n",
       "    <tr>\n",
       "      <th>2</th>\n",
       "      <td>536365</td>\n",
       "      <td>8</td>\n",
       "      <td>2.75</td>\n",
       "      <td>22.00</td>\n",
       "      <td>2010</td>\n",
       "      <td>12</td>\n",
       "    </tr>\n",
       "    <tr>\n",
       "      <th>3</th>\n",
       "      <td>536365</td>\n",
       "      <td>6</td>\n",
       "      <td>3.39</td>\n",
       "      <td>20.34</td>\n",
       "      <td>2010</td>\n",
       "      <td>12</td>\n",
       "    </tr>\n",
       "    <tr>\n",
       "      <th>4</th>\n",
       "      <td>536365</td>\n",
       "      <td>6</td>\n",
       "      <td>3.39</td>\n",
       "      <td>20.34</td>\n",
       "      <td>2010</td>\n",
       "      <td>12</td>\n",
       "    </tr>\n",
       "  </tbody>\n",
       "</table>\n",
       "</div>"
      ],
      "text/plain": [
       "  invoiceno  quantity  unitprice  total_amount  year  month\n",
       "0    536365         6       2.55         15.30  2010     12\n",
       "1    536365         6       3.39         20.34  2010     12\n",
       "2    536365         8       2.75         22.00  2010     12\n",
       "3    536365         6       3.39         20.34  2010     12\n",
       "4    536365         6       3.39         20.34  2010     12"
      ]
     },
     "metadata": {},
     "output_type": "display_data"
    }
   ],
   "source": [
    "# Cell 12: Create useful features for analysis\n",
    "print(\"=== STEP 6: FEATURE ENGINEERING ===\")\n",
    "\n",
    "# Create total amount per transaction line\n",
    "clean_data['total_amount'] = clean_data['quantity'] * clean_data['unitprice']\n",
    "\n",
    "# Extract date components for analysis\n",
    "clean_data['year'] = clean_data['invoicedate'].dt.year\n",
    "clean_data['month'] = clean_data['invoicedate'].dt.month\n",
    "clean_data['day_of_week'] = clean_data['invoicedate'].dt.dayofweek\n",
    "clean_data['hour'] = clean_data['invoicedate'].dt.hour\n",
    "\n",
    "print(\"✅ Created new features:\")\n",
    "print(\"- total_amount (quantity × unit_price)\")\n",
    "print(\"- year, month, day_of_week, hour\")\n",
    "\n",
    "# Show sample of enhanced data\n",
    "print(\"\\nSample of enhanced data:\")\n",
    "display(clean_data[['invoiceno', 'quantity', 'unitprice', 'total_amount', 'year', 'month']].head())\n",
    "\n",
    "cleaning_log['steps_completed'].append('Created additional features')"
   ]
  },
  {
   "cell_type": "code",
   "execution_count": 22,
   "id": "c88e5bfc",
   "metadata": {},
   "outputs": [
    {
     "name": "stdout",
     "output_type": "stream",
     "text": [
      "=== STEP 7: FINAL VALIDATION ===\n",
      "📊 FINAL DATASET SUMMARY:\n",
      "Rows: 392,692\n",
      "Columns: 13\n",
      "Date range: 2010-12-01 08:26:00 to 2011-12-09 12:50:00\n",
      "Unique customers: 4,338\n",
      "Unique products: 3,665\n",
      "Countries: 37\n",
      "\n",
      "💰 REVENUE SUMMARY:\n",
      "Total revenue: £8,887,208.89\n",
      "Average order value: £22.63\n",
      "\n",
      "📈 TOP 5 COUNTRIES BY REVENUE:\n"
     ]
    },
    {
     "data": {
      "text/plain": [
       "country\n",
       "United Kingdom    7285024.644\n",
       "Netherlands        285446.340\n",
       "EIRE               265262.460\n",
       "Germany            228678.400\n",
       "France             208934.310\n",
       "Name: total_amount, dtype: float64"
      ]
     },
     "metadata": {},
     "output_type": "display_data"
    },
    {
     "name": "stdout",
     "output_type": "stream",
     "text": [
      "\n",
      "📝 CLEANING LOG:\n",
      "✅ Column names normalized\n",
      "✅ Dates parsed successfully\n",
      "✅ Removed 5268 duplicates\n",
      "✅ Removed 135037 rows with missing CustomerID\n",
      "✅ Removed 8912 rows with invalid values\n",
      "✅ Created additional features\n"
     ]
    }
   ],
   "source": [
    "# Cell 13: Final validation and summary\n",
    "print(\"=== STEP 7: FINAL VALIDATION ===\")\n",
    "\n",
    "print(\"📊 FINAL DATASET SUMMARY:\")\n",
    "print(f\"Rows: {len(clean_data):,}\")\n",
    "print(f\"Columns: {len(clean_data.columns)}\")\n",
    "print(f\"Date range: {clean_data['invoicedate'].min()} to {clean_data['invoicedate'].max()}\")\n",
    "print(f\"Unique customers: {clean_data['customerid'].nunique():,}\")\n",
    "print(f\"Unique products: {clean_data['stockcode'].nunique():,}\")\n",
    "print(f\"Countries: {clean_data['country'].nunique()}\")\n",
    "\n",
    "print(\"\\n💰 REVENUE SUMMARY:\")\n",
    "total_revenue = clean_data['total_amount'].sum()\n",
    "print(f\"Total revenue: £{total_revenue:,.2f}\")\n",
    "print(f\"Average order value: £{clean_data['total_amount'].mean():.2f}\")\n",
    "\n",
    "print(\"\\n📈 TOP 5 COUNTRIES BY REVENUE:\")\n",
    "country_revenue = clean_data.groupby('country')['total_amount'].sum().sort_values(ascending=False).head()\n",
    "display(country_revenue)\n",
    "\n",
    "# Complete the cleaning log\n",
    "cleaning_log['completion_time'] = datetime.now()\n",
    "cleaning_log['processing_duration'] = cleaning_log['completion_time'] - cleaning_log['timestamp']\n",
    "\n",
    "print(\"\\n📝 CLEANING LOG:\")\n",
    "for step in cleaning_log['steps_completed']:\n",
    "    print(f\"✅ {step}\")"
   ]
  },
  {
   "cell_type": "code",
   "execution_count": 27,
   "id": "f5aa2054",
   "metadata": {},
   "outputs": [
    {
     "name": "stdout",
     "output_type": "stream",
     "text": [
      "=== STEP 8: SAVING CLEAN DATA ===\n",
      "✅ Saved clean data to ../data/clean_sales.csv\n",
      "✅ Saved cleaning summary to data/cleaning_summary.json\n",
      "📊 Data quality score: 72.46%\n"
     ]
    }
   ],
   "source": [
    "# Cell 14: Save the cleaned data\n",
    "print(\"=== STEP 8: SAVING CLEAN DATA ===\")\n",
    "\n",
    "# Save to CSV\n",
    "csv_path = '../data/clean_sales.csv'\n",
    "clean_data.to_csv(csv_path, index=False)\n",
    "print(f\"✅ Saved clean data to {csv_path}\")\n",
    "\n",
    "# Create a data summary file\n",
    "summary_data = {\n",
    "    'cleaning_timestamp': cleaning_log['timestamp'].strftime('%Y-%m-%d %H:%M:%S'),\n",
    "    'original_rows': cleaning_log['initial_rows'],\n",
    "    'final_rows': cleaning_log['final_clean_rows'],\n",
    "    'data_quality_score': round((cleaning_log['final_clean_rows'] / cleaning_log['initial_rows']) * 100, 2),\n",
    "    'date_range_start': str(clean_data['invoicedate'].min()),\n",
    "    'date_range_end': str(clean_data['invoicedate'].max()),\n",
    "    'unique_customers': int(clean_data['customerid'].nunique()),\n",
    "    'unique_products': int(clean_data['stockcode'].nunique()),\n",
    "    'total_revenue': float(clean_data['total_amount'].sum()),\n",
    "    'countries': int(clean_data['country'].nunique())\n",
    "}\n",
    "\n",
    "# Save summary as JSON\n",
    "import json\n",
    "with open('../data/cleaning_summary.json', 'w') as f:\n",
    "    json.dump(summary_data, f, indent=2)\n",
    "\n",
    "print(\"✅ Saved cleaning summary to data/cleaning_summary.json\")\n",
    "print(f\"📊 Data quality score: {summary_data['data_quality_score']}%\")"
   ]
  },
  {
   "cell_type": "code",
   "execution_count": 28,
   "id": "af5944e2",
   "metadata": {},
   "outputs": [
    {
     "name": "stdout",
     "output_type": "stream",
     "text": [
      "=== READY FOR GIT COMMIT ===\n",
      "Files created:\n",
      "✅ data/clean_sales.csv\n",
      "✅ data/cleaning_summary.json\n",
      "✅ notebooks/01_data_prep.ipynb\n",
      "\n",
      "Your Day 1 objectives are complete! 🎉\n"
     ]
    }
   ],
   "source": [
    "# Cell 15: Display final structure for commit\n",
    "print(\"=== READY FOR GIT COMMIT ===\")\n",
    "print(\"Files created:\")\n",
    "print(\"✅ data/clean_sales.csv\")\n",
    "print(\"✅ data/cleaning_summary.json\") \n",
    "print(\"✅ notebooks/01_data_prep.ipynb\")\n",
    "\n",
    "print(\"\\nYour Day 1 objectives are complete! 🎉\")"
   ]
  }
 ],
 "metadata": {
  "kernelspec": {
   "display_name": "Python (data_env)",
   "language": "python",
   "name": "data_env"
  },
  "language_info": {
   "codemirror_mode": {
    "name": "ipython",
    "version": 3
   },
   "file_extension": ".py",
   "mimetype": "text/x-python",
   "name": "python",
   "nbconvert_exporter": "python",
   "pygments_lexer": "ipython3",
   "version": "3.11.13"
  }
 },
 "nbformat": 4,
 "nbformat_minor": 5
}
